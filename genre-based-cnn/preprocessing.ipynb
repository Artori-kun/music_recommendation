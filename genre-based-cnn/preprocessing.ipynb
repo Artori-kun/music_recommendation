{
 "cells": [
  {
   "cell_type": "code",
   "execution_count": 2,
   "metadata": {
    "collapsed": true
   },
   "outputs": [
    {
     "name": "stdout",
     "output_type": "stream",
     "text": [
      "Instrumental: 1000\n",
      "Folk: 1000\n",
      "Electronic: 999\n",
      "Hip-Hop: 997\n",
      "International: 1000\n",
      "Experimental: 999\n",
      "Rock: 999\n",
      "Pop: 1000\n"
     ]
    }
   ],
   "source": [
    "import os\n",
    "import librosa\n",
    "import pydub\n",
    "import numpy as np\n",
    "import matplotlib.pyplot as plt\n",
    "from matplotlib.backends.backend_agg import FigureCanvasAgg as FigureCanvas\n",
    "import random\n",
    "# sample, sr = librosa.load(\"./data/Electronic/004519.wav\")\n",
    "\n",
    "for genre in os.listdir(\"./data\"):\n",
    "    print(f\"{genre}: \" + str(len(os.listdir(f\"./data/{genre}\"))))"
   ]
  },
  {
   "cell_type": "code",
   "execution_count": null,
   "outputs": [
    {
     "name": "stdout",
     "output_type": "stream",
     "text": [
      "Instrumental\n",
      "Instrumental: 10000\n",
      "Folk\n"
     ]
    }
   ],
   "source": [
    "## split each audio into 3-sec-audios\n",
    "## compute and export mel spectrograms\n",
    "\n",
    "for genre in os.listdir(\"./data\"):\n",
    "    i = 0\n",
    "    print(genre)\n",
    "    for track in os.listdir(f\"./data/{genre}\"):\n",
    "        # print(track)\n",
    "        try:\n",
    "            audio = pydub.AudioSegment.from_file(f\"./data/{genre}/{track}\")\n",
    "        except Exception:\n",
    "            continue\n",
    "        for w in range(0, 10):\n",
    "            audio3sec = audio[3 * w * 1000:3 * (w + 1) * 1000]\n",
    "            samples = audio3sec.get_array_of_samples()\n",
    "            arr = np.array(samples).astype(np.float32)\n",
    "            mels = librosa.feature.melspectrogram(y=arr, sr=22050, n_mels=128, fmax=8000)\n",
    "            mels = librosa.power_to_db(mels, ref=np.max)\n",
    "\n",
    "            fig = plt.Figure()\n",
    "            canvas = FigureCanvas(fig)\n",
    "            p = plt.imshow(mels)\n",
    "\n",
    "            plt.savefig(f\"./spectrogram3sec/train/{genre}/{genre + str(i)}.png\")\n",
    "            plt.close()\n",
    "            i += 1\n",
    "    print(f\"{genre}: {i}\")"
   ],
   "metadata": {
    "collapsed": false,
    "pycharm": {
     "name": "#%%\n",
     "is_executing": true
    }
   }
  },
  {
   "cell_type": "code",
   "execution_count": 3,
   "outputs": [],
   "source": [
    "## split data\n",
    "## 8-2 ratio\n",
    "import shutil\n",
    "for genre in os.listdir(\"./spectrogram3sec/train\"):\n",
    "    images = os.listdir(f\"./spectrogram3sec/train/{genre}\")\n",
    "    random.shuffle(images)\n",
    "    test_images = images[0:int(len(images) * 0.2)]\n",
    "\n",
    "    for image in test_images:\n",
    "        shutil.move(f\"./spectrogram3sec/train/{genre}/{image}\",\n",
    "                    f\"./spectrogram3sec/test/{genre}/{image}\")\n"
   ],
   "metadata": {
    "collapsed": false,
    "pycharm": {
     "name": "#%%\n"
    }
   }
  },
  {
   "cell_type": "code",
   "execution_count": 10,
   "outputs": [
    {
     "name": "stdout",
     "output_type": "stream",
     "text": [
      "Pop\n",
      "Pop: 10000\n"
     ]
    }
   ],
   "source": [
    "i = 0\n",
    "genre = \"Pop\"\n",
    "print(genre)\n",
    "for track in os.listdir(f\"./data/{genre}\"):\n",
    "        # print(track)\n",
    "    try:\n",
    "        audio = pydub.AudioSegment.from_file(f\"./data/{genre}/{track}\")\n",
    "        # if len(audio) < 30 * 1000:\n",
    "        #     continue\n",
    "    except Exception:\n",
    "        continue\n",
    "    for w in range(0, 10):\n",
    "        audio3sec = audio[3 * w * 1000:3 * (w + 1) * 1000]\n",
    "        samples = audio3sec.get_array_of_samples()\n",
    "        arr = np.array(samples).astype(np.float32)\n",
    "        mels = librosa.feature.melspectrogram(y=arr, sr=22050, n_mels=128, fmax=8000)\n",
    "        mels = librosa.power_to_db(mels, ref=np.max)\n",
    "\n",
    "        fig = plt.Figure()\n",
    "        canvas = FigureCanvas(fig)\n",
    "        p = plt.imshow(mels)\n",
    "\n",
    "        plt.savefig(f\"./spectrogram3sec/train/{genre}/{genre + str(i)}.png\")\n",
    "        plt.close()\n",
    "        i += 1\n",
    "print(f\"{genre}: {i}\")"
   ],
   "metadata": {
    "collapsed": false,
    "pycharm": {
     "name": "#%%\n"
    }
   }
  },
  {
   "cell_type": "code",
   "execution_count": null,
   "outputs": [],
   "source": [],
   "metadata": {
    "collapsed": false,
    "pycharm": {
     "name": "#%%\n"
    }
   }
  }
 ],
 "metadata": {
  "kernelspec": {
   "display_name": "Python 3",
   "language": "python",
   "name": "python3"
  },
  "language_info": {
   "codemirror_mode": {
    "name": "ipython",
    "version": 2
   },
   "file_extension": ".py",
   "mimetype": "text/x-python",
   "name": "python",
   "nbconvert_exporter": "python",
   "pygments_lexer": "ipython2",
   "version": "2.7.6"
  }
 },
 "nbformat": 4,
 "nbformat_minor": 0
}
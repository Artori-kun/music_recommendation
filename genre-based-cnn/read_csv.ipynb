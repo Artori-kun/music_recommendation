{
 "cells": [
  {
   "cell_type": "code",
   "execution_count": 1,
   "metadata": {
    "collapsed": true
   },
   "outputs": [],
   "source": [
    "import os\n",
    "import numpy as np\n",
    "import sklearn as skl\n",
    "import librosa\n",
    "import utils\n",
    "import shutil\n",
    "import pydub"
   ]
  },
  {
   "cell_type": "code",
   "execution_count": 2,
   "outputs": [
    {
     "name": "stdout",
     "output_type": "stream",
     "text": [
      "          bit_rate  comments   composer        date_created date_recorded  \\\n",
      "track_id                                                                    \n",
      "2           256000         0        NaN 2008-11-26 01:48:12    2008-11-26   \n",
      "5           256000         0        NaN 2008-11-26 01:48:20    2008-11-26   \n",
      "10          192000         0  Kurt Vile 2008-11-25 17:49:06    2008-11-26   \n",
      "140         128000         0        NaN 2008-11-26 01:44:07    2008-11-26   \n",
      "141         128000         0        NaN 2008-11-26 01:44:10    2008-11-26   \n",
      "...            ...       ...        ...                 ...           ...   \n",
      "154308      320000         0        NaN 2017-03-05 04:58:50           NaT   \n",
      "154309      320000         0        NaN 2017-03-05 04:58:52           NaT   \n",
      "154413      320000         0        NaN 2017-03-07 18:46:39           NaT   \n",
      "154414      320000         0        NaN 2017-03-07 18:46:41           NaT   \n",
      "155066      320000         0        NaN 2017-03-24 19:40:47           NaT   \n",
      "\n",
      "          duration  favorites genre_top          genres      genres_all  \\\n",
      "track_id                                                                  \n",
      "2              168          2   Hip-Hop            [21]            [21]   \n",
      "5              206          6   Hip-Hop            [21]            [21]   \n",
      "10             161        178       Pop            [10]            [10]   \n",
      "140            253          5      Folk            [17]            [17]   \n",
      "141            182          1      Folk            [17]            [17]   \n",
      "...            ...        ...       ...             ...             ...   \n",
      "154308         194          2   Hip-Hop  [21, 539, 811]  [811, 539, 21]   \n",
      "154309         162          5   Hip-Hop  [21, 539, 811]  [811, 539, 21]   \n",
      "154413         349          0       Pop            [76]        [10, 76]   \n",
      "154414         346          1       Pop            [76]        [10, 76]   \n",
      "155066         252          6   Hip-Hop       [21, 811]       [811, 21]   \n",
      "\n",
      "         information  interest language_code  \\\n",
      "track_id                                       \n",
      "2                NaN      4656            en   \n",
      "5                NaN      1933            en   \n",
      "10               NaN     54881            en   \n",
      "140              NaN      1593            en   \n",
      "141              NaN       839            en   \n",
      "...              ...       ...           ...   \n",
      "154308           NaN      3371           NaN   \n",
      "154309           NaN      4525           NaN   \n",
      "154413           NaN       809           NaN   \n",
      "154414           NaN       851           NaN   \n",
      "155066           NaN      2065           NaN   \n",
      "\n",
      "                                                    license  listens lyricist  \\\n",
      "track_id                                                                        \n",
      "2         Attribution-NonCommercial-ShareAlike 3.0 Inter...     1293      NaN   \n",
      "5         Attribution-NonCommercial-ShareAlike 3.0 Inter...     1151      NaN   \n",
      "10        Attribution-NonCommercial-NoDerivatives (aka M...    50135      NaN   \n",
      "140       Attribution-Noncommercial-No Derivative Works ...     1299      NaN   \n",
      "141       Attribution-Noncommercial-No Derivative Works ...      725      NaN   \n",
      "...                                                     ...      ...      ...   \n",
      "154308                                          Attribution     2705      NaN   \n",
      "154309                                          Attribution     3589      NaN   \n",
      "154413    Creative Commons Attribution-NonCommercial-NoD...      676      NaN   \n",
      "154414    Creative Commons Attribution-NonCommercial-NoD...      788      NaN   \n",
      "155066                                          Attribution     1474      NaN   \n",
      "\n",
      "          number publisher                                               tags  \\\n",
      "track_id                                                                        \n",
      "2              3       NaN                                                 []   \n",
      "5              6       NaN                                                 []   \n",
      "10             1       NaN                                                 []   \n",
      "140            2       NaN                                                 []   \n",
      "141            4       NaN                                                 []   \n",
      "...          ...       ...                                                ...   \n",
      "154308        17       NaN  [fleslit, trap beat free use, trap beat free d...   \n",
      "154309        18       NaN  [fleslit, trap beat free use, trap beat free d...   \n",
      "154413         9       NaN                                                 []   \n",
      "154414        10       NaN                                                 []   \n",
      "155066         3       NaN  [old school beats, 2017 free instrumentals, fr...   \n",
      "\n",
      "                                title  \n",
      "track_id                               \n",
      "2                                Food  \n",
      "5                          This World  \n",
      "10                            Freeway  \n",
      "140                Queen Of The Wires  \n",
      "141                              Ohio  \n",
      "...                               ...  \n",
      "154308                            MIA  \n",
      "154309                    A1 Symphony  \n",
      "154413                        Do Easy  \n",
      "154414    Dead Can Dance (uncensored)  \n",
      "155066                            Roy  \n",
      "\n",
      "[8000 rows x 20 columns]\n"
     ]
    }
   ],
   "source": [
    "metafile_path = \"/home/minhhiu/MyProjects/music_data/fma_metadata\"\n",
    "\n",
    "# load meta data\n",
    "tracks = utils.load(os.path.join(metafile_path, 'tracks.csv'))\n",
    "genres = utils.load(os.path.join(metafile_path, 'genres.csv'))\n",
    "\n",
    "tracks_small = tracks[tracks['set', 'subset'] <= 'small']\n",
    "tracks_small = tracks_small['track']\n",
    "print(tracks_small)"
   ],
   "metadata": {
    "collapsed": false,
    "pycharm": {
     "name": "#%%\n"
    }
   }
  },
  {
   "cell_type": "code",
   "execution_count": 3,
   "outputs": [
    {
     "name": "stdout",
     "output_type": "stream",
     "text": [
      "[     2      5     10 ... 154413 154414 155066]\n",
      "[list([21]) list([21]) list([10]) ... list([76]) list([76])\n",
      " list([21, 811])]\n"
     ]
    }
   ],
   "source": [
    "# tracks_arr = tracks_small.values\n",
    "# tracks_id_arr = tracks_arr[:, 0]\n",
    "# tracks_genre_arr = tracks_arr[:, 8]\n",
    "\n",
    "track_ids = tracks_small.index.values\n",
    "tracks_genre = tracks_small['genres'].values\n",
    "\n",
    "top_lvl_genres = genres.loc[genres['top_level'].unique()]\n",
    "\n",
    "\n",
    "print(track_ids)\n",
    "print(tracks_genre)"
   ],
   "metadata": {
    "collapsed": false,
    "pycharm": {
     "name": "#%%\n"
    }
   }
  },
  {
   "cell_type": "code",
   "execution_count": 5,
   "outputs": [],
   "source": [
    "for track_id in track_ids:\n",
    "    track_genre = tracks_small.loc[track_id, :]['genre_top']\n",
    "    track_id = str(track_id)\n",
    "    while len(track_id) < 6:\n",
    "        track_id = '0' + track_id\n",
    "    try:\n",
    "        track = pydub.AudioSegment.from_file(\"/home/minhhiu/MyProjects/music_data/fma_small/\" + track_id[:3] + \"/\" + track_id + \".mp3\")\n",
    "    except Exception:\n",
    "        continue\n",
    "    track.export(\"./data/\" + track_genre + \"/\" + track_id + \".wav\", format=\"wav\")"
   ],
   "metadata": {
    "collapsed": false,
    "pycharm": {
     "name": "#%%\n"
    }
   }
  },
  {
   "cell_type": "code",
   "execution_count": 13,
   "outputs": [],
   "source": [
    "# make directories for training and testing\n",
    "genre_list = os.listdir(\"./data/\")\n",
    "\n",
    "for genre in genre_list:\n",
    "    path_train = os.path.join(\"./spectrogram3sec/train\", genre)\n",
    "    path_test = os.path.join(\"./spectrogram3sec/test\", genre)\n",
    "    os.makedirs(path_train)\n",
    "    os.makedirs(path_test)"
   ],
   "metadata": {
    "collapsed": false,
    "pycharm": {
     "name": "#%%\n"
    }
   }
  },
  {
   "cell_type": "code",
   "execution_count": null,
   "outputs": [],
   "source": [],
   "metadata": {
    "collapsed": false,
    "pycharm": {
     "name": "#%%\n"
    }
   }
  }
 ],
 "metadata": {
  "kernelspec": {
   "display_name": "Python 3",
   "language": "python",
   "name": "python3"
  },
  "language_info": {
   "codemirror_mode": {
    "name": "ipython",
    "version": 2
   },
   "file_extension": ".py",
   "mimetype": "text/x-python",
   "name": "python",
   "nbconvert_exporter": "python",
   "pygments_lexer": "ipython2",
   "version": "2.7.6"
  }
 },
 "nbformat": 4,
 "nbformat_minor": 0
}